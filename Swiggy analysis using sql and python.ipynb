{
 "cells": [
  {
   "cell_type": "markdown",
   "metadata": {},
   "source": [
    "### Installing & Importing Required Libraries"
   ]
  },
  {
   "cell_type": "code",
   "execution_count": 1,
   "metadata": {
    "execution": {
     "iopub.execute_input": "2023-08-21T08:49:07.537652Z",
     "iopub.status.busy": "2023-08-21T08:49:07.536739Z",
     "iopub.status.idle": "2023-08-21T08:49:19.173940Z",
     "shell.execute_reply": "2023-08-21T08:49:19.172971Z",
     "shell.execute_reply.started": "2023-08-21T08:49:07.537610Z"
    }
   },
   "outputs": [
    {
     "name": "stdout",
     "output_type": "stream",
     "text": [
      "Collecting pymysql\n",
      "  Downloading PyMySQL-1.1.0-py3-none-any.whl (44 kB)\n",
      "                                              0.0/44.8 kB ? eta -:--:--\n",
      "     ------------------------------------     41.0/44.8 kB ? eta -:--:--\n",
      "     -------------------------------------- 44.8/44.8 kB 734.6 kB/s eta 0:00:00\n",
      "Requirement already satisfied: sqlalchemy in c:\\users\\user\\anaconda3\\anaconda3\\lib\\site-packages (1.4.39)\n",
      "Requirement already satisfied: greenlet!=0.4.17 in c:\\users\\user\\anaconda3\\anaconda3\\lib\\site-packages (from sqlalchemy) (2.0.1)\n",
      "Installing collected packages: pymysql\n",
      "Successfully installed pymysql-1.1.0\n"
     ]
    },
    {
     "name": "stderr",
     "output_type": "stream",
     "text": [
      "Error processing line 1 of C:\\Users\\user\\anaconda3\\Anaconda3\\lib\\site-packages\\vision-1.0.0-py3.10-nspkg.pth:\n",
      "\n",
      "  Traceback (most recent call last):\n",
      "    File \"C:\\Users\\user\\anaconda3\\Anaconda3\\lib\\site.py\", line 186, in addpackage\n",
      "      exec(line)\n",
      "    File \"<string>\", line 1, in <module>\n",
      "    File \"<frozen importlib._bootstrap>\", line 568, in module_from_spec\n",
      "  AttributeError: 'NoneType' object has no attribute 'loader'\n",
      "\n",
      "Remainder of file ignored\n",
      "\n",
      "[notice] A new release of pip is available: 23.1.2 -> 23.2.1\n",
      "[notice] To update, run: python.exe -m pip install --upgrade pip\n"
     ]
    }
   ],
   "source": [
    "!pip install pymysql sqlalchemy "
   ]
  },
  {
   "cell_type": "code",
   "execution_count": 2,
   "metadata": {
    "execution": {
     "iopub.execute_input": "2023-08-21T08:55:55.915591Z",
     "iopub.status.busy": "2023-08-21T08:55:55.915199Z",
     "iopub.status.idle": "2023-08-21T08:55:55.937557Z",
     "shell.execute_reply": "2023-08-21T08:55:55.936655Z",
     "shell.execute_reply.started": "2023-08-21T08:55:55.915558Z"
    }
   },
   "outputs": [],
   "source": [
    "import numpy as np\n",
    "import pandas as pd\n",
    "import pymysql\n",
    "import sqlalchemy\n",
    "from tabulate import tabulate \n",
    "\n",
    "pd.set_option('display.max_rows', None)\n",
    "pd.set_option('display.max_columns', None)\n",
    "pd.set_option('display.max_colwidth', None)\n"
   ]
  },
  {
   "cell_type": "code",
   "execution_count": null,
   "metadata": {
    "execution": {
     "iopub.execute_input": "2023-08-21T08:57:47.476558Z",
     "iopub.status.busy": "2023-08-21T08:57:47.476194Z",
     "iopub.status.idle": "2023-08-21T08:57:47.524316Z",
     "shell.execute_reply": "2023-08-21T08:57:47.523445Z",
     "shell.execute_reply.started": "2023-08-21T08:57:47.476528Z"
    }
   },
   "outputs": [],
   "source": [
    "df=pd.read_csv('/kaggle/input/swiggy-restuarant-dataset/swiggy.csv')"
   ]
  },
  {
   "cell_type": "code",
   "execution_count": null,
   "metadata": {
    "execution": {
     "iopub.execute_input": "2023-08-21T08:57:58.048274Z",
     "iopub.status.busy": "2023-08-21T08:57:58.047586Z",
     "iopub.status.idle": "2023-08-21T08:57:58.073816Z",
     "shell.execute_reply": "2023-08-21T08:57:58.073115Z",
     "shell.execute_reply.started": "2023-08-21T08:57:58.048225Z"
    }
   },
   "outputs": [],
   "source": [
    "df.head(2)"
   ]
  },
  {
   "cell_type": "code",
   "execution_count": null,
   "metadata": {
    "execution": {
     "iopub.execute_input": "2023-08-21T08:58:56.687823Z",
     "iopub.status.busy": "2023-08-21T08:58:56.687442Z",
     "iopub.status.idle": "2023-08-21T08:58:56.701818Z",
     "shell.execute_reply": "2023-08-21T08:58:56.701155Z",
     "shell.execute_reply.started": "2023-08-21T08:58:56.687790Z"
    }
   },
   "outputs": [],
   "source": [
    "\n",
    "df.columns=[column.replace(\" \", \"_\") for column in df.columns.to_list()]\n",
    "\n",
    "# Get column names and data types\n",
    "column_names = df.columns.tolist()\n",
    "data_types = df.dtypes.tolist()\n",
    "\n",
    "# columns changed\n",
    "df.head(1)"
   ]
  },
  {
   "cell_type": "code",
   "execution_count": null,
   "metadata": {
    "execution": {
     "iopub.execute_input": "2023-08-21T08:58:58.004541Z",
     "iopub.status.busy": "2023-08-21T08:58:58.003992Z",
     "iopub.status.idle": "2023-08-21T08:58:58.015160Z",
     "shell.execute_reply": "2023-08-21T08:58:58.013890Z",
     "shell.execute_reply.started": "2023-08-21T08:58:58.004511Z"
    }
   },
   "outputs": [],
   "source": [
    "column_names,data_types"
   ]
  },
  {
   "cell_type": "code",
   "execution_count": null,
   "metadata": {
    "execution": {
     "iopub.execute_input": "2023-08-21T08:58:46.244885Z",
     "iopub.status.busy": "2023-08-21T08:58:46.244500Z",
     "iopub.status.idle": "2023-08-21T08:58:46.251002Z",
     "shell.execute_reply": "2023-08-21T08:58:46.249969Z",
     "shell.execute_reply.started": "2023-08-21T08:58:46.244850Z"
    }
   },
   "outputs": [],
   "source": [
    "df.shape"
   ]
  },
  {
   "cell_type": "code",
   "execution_count": null,
   "metadata": {
    "execution": {
     "iopub.execute_input": "2023-08-21T08:59:00.857021Z",
     "iopub.status.busy": "2023-08-21T08:59:00.856304Z",
     "iopub.status.idle": "2023-08-21T08:59:00.901880Z",
     "shell.execute_reply": "2023-08-21T08:59:00.900823Z",
     "shell.execute_reply.started": "2023-08-21T08:59:00.856983Z"
    }
   },
   "outputs": [],
   "source": [
    "\n",
    "for column, dtype in zip(column_names, data_types):\n",
    "    if dtype == 'int64':\n",
    "        print(f'\\nINT---------INT\\n{column},{dtype} Range is {df[column].min()} - {df[column].max()}')\n",
    "    elif dtype == 'object':\n",
    "        print(f'\\nOBJECT#########OBJECT\\n{column},{dtype} value width is {df[column].str.len().min()} - {df[column].str.len().max()}')\n",
    "    else:\n",
    "        print(f'\\nFL+++++++++FL\\n{column},{dtype} Range is {df[column].min()} - {df[column].max()}')"
   ]
  },
  {
   "cell_type": "code",
   "execution_count": null,
   "metadata": {
    "execution": {
     "iopub.execute_input": "2023-08-21T08:59:05.096173Z",
     "iopub.status.busy": "2023-08-21T08:59:05.095022Z",
     "iopub.status.idle": "2023-08-21T08:59:05.103936Z",
     "shell.execute_reply": "2023-08-21T08:59:05.102965Z",
     "shell.execute_reply.started": "2023-08-21T08:59:05.096123Z"
    }
   },
   "outputs": [],
   "source": [
    "\n",
    "table_name = 'swiggytable'  # Replace with your desired table name\n",
    "sql_command = f\"CREATE TABLE {table_name} (\\n\"\n",
    "\n",
    "for column, dtype in zip(column_names, data_types):\n",
    "    if dtype == 'int64':\n",
    "        sql_command += f\"    {column} INT(10),\\n\"\n",
    "    elif dtype == 'object':\n",
    "        sql_command += f\"    {column} VARCHAR(300),\\n\"\n",
    "    # Add more data type conditions if needed\n",
    "    else:\n",
    "        sql_command += f\"    {column} FLOAT(10,5),\\n\"\n",
    "    \n",
    "\n",
    "sql_command = sql_command.rstrip(\",\\n\") + \"\\n);\"\n",
    "\n",
    "print(sql_command)"
   ]
  },
  {
   "cell_type": "markdown",
   "metadata": {},
   "source": [
    "### Building Connection"
   ]
  },
  {
   "cell_type": "code",
   "execution_count": null,
   "metadata": {},
   "outputs": [],
   "source": [
    "# Run this cell locally to connect to mysql ( I used phpmyadmin)\n",
    "# Create connection \n",
    "import pymysql.cursors\n",
    "\n",
    "conn = pymysql.connect(\n",
    "        host='localhost', \n",
    "        user='root',  \n",
    "        password = \"vaishnavi@143\", \n",
    "        db='swiggy')"
   ]
  },
  {
   "cell_type": "code",
   "execution_count": null,
   "metadata": {},
   "outputs": [],
   "source": [
    "cursor = conn.cursor()"
   ]
  },
  {
   "cell_type": "code",
   "execution_count": null,
   "metadata": {},
   "outputs": [],
   "source": [
    "# Checking connection\n",
    "cursor.execute(\"SELECT 1\")  # A simple query to test the connection\n",
    "result = cursor.fetchone()\n",
    "\n",
    "if result:\n",
    "    print('Connection is made')\n",
    "else:\n",
    "    print('Connection is not made')"
   ]
  },
  {
   "cell_type": "code",
   "execution_count": null,
   "metadata": {},
   "outputs": [],
   "source": [
    "# Also one way to test connection\n",
    "conn.open"
   ]
  },
  {
   "cell_type": "code",
   "execution_count": null,
   "metadata": {},
   "outputs": [],
   "source": [
    "cursor.execute(sql_command)"
   ]
  },
  {
   "cell_type": "code",
   "execution_count": null,
   "metadata": {},
   "outputs": [],
   "source": [
    "from sqlalchemy import create_engine\n",
    "\n",
    "engine = create_engine('mysql+pymysql://<user>:<password>@<host>/<db>')  "
   ]
  },
  {
   "cell_type": "markdown",
   "metadata": {},
   "source": [
    "#### <span style=\"color:red\"> if_exists = 'replace' </span> can be used to create a table from scratch which is easier but will cause performance issues because it will assume datatypes of columns\n",
    "\n",
    "#### we will insert data by using <span style=\"color:red\"> if_exists = 'append' </span> to only insert values"
   ]
  },
  {
   "cell_type": "code",
   "execution_count": null,
   "metadata": {},
   "outputs": [],
   "source": [
    "df.to_sql(name='swiggytable', con=engine, if_exists='append', index=False)"
   ]
  },
  {
   "cell_type": "code",
   "execution_count": null,
   "metadata": {},
   "outputs": [],
   "source": [
    "query = \"SELECT COUNT(*) FROM swiggytable\"\n",
    "cursor.execute(query)\n",
    "\n",
    "# Fetch the first 5 records\n",
    "print(f'The count of records is {cursor.fetchall()}')\n"
   ]
  },
  {
   "cell_type": "markdown",
   "metadata": {},
   "source": [
    "###  Asking Questions"
   ]
  },
  {
   "cell_type": "code",
   "execution_count": null,
   "metadata": {},
   "outputs": [],
   "source": [
    "# 1. Retrieve the top 5 areas with the highest average restaurant ratings. \n",
    "\n",
    "query1=\"SELECT DISTINCT Area, Avg_ratings FROM swiggytable ORDER BY Avg_ratings DESC LIMIT 5;\"\n",
    "cursor.execute(query1)\n",
    "\n",
    "# Fetch the records\n",
    "records = cursor.fetchall()\n",
    "\n",
    "# Define the headers for the columns\n",
    "headers =  [desc[0] for desc in cursor.description]\n",
    "\n",
    "# Print the records using tabulate\n",
    "print(tabulate(records, headers=headers, tablefmt=\"psql\"))"
   ]
  },
  {
   "cell_type": "markdown",
   "metadata": {},
   "source": [
    "### Q2 \n",
    "### Extracting all food_types to see the unique ones then check veg options"
   ]
  },
  {
   "cell_type": "code",
   "execution_count": null,
   "metadata": {
    "execution": {
     "iopub.execute_input": "2023-08-21T09:26:11.066588Z",
     "iopub.status.busy": "2023-08-21T09:26:11.066206Z",
     "iopub.status.idle": "2023-08-21T09:26:11.073607Z",
     "shell.execute_reply": "2023-08-21T09:26:11.072392Z",
     "shell.execute_reply.started": "2023-08-21T09:26:11.066556Z"
    }
   },
   "outputs": [],
   "source": [
    "all_elements = ' '.join(df.Food_type.to_list())\n",
    "all_elements[:500]"
   ]
  },
  {
   "cell_type": "code",
   "execution_count": null,
   "metadata": {
    "execution": {
     "iopub.execute_input": "2023-08-21T09:26:27.263508Z",
     "iopub.status.busy": "2023-08-21T09:26:27.263137Z",
     "iopub.status.idle": "2023-08-21T09:26:27.270364Z",
     "shell.execute_reply": "2023-08-21T09:26:27.269295Z",
     "shell.execute_reply.started": "2023-08-21T09:26:27.263479Z"
    }
   },
   "outputs": [],
   "source": [
    "all_elements = all_elements.replace(' ', ',')\n",
    "all_elements[:500]"
   ]
  },
  {
   "cell_type": "code",
   "execution_count": null,
   "metadata": {
    "scrolled": true
   },
   "outputs": [],
   "source": [
    "cuisine_list = all_elements.split(',')\n",
    "cuisine_list[1:50]"
   ]
  },
  {
   "cell_type": "code",
   "execution_count": null,
   "metadata": {},
   "outputs": [],
   "source": [
    "# set auto picks unique elements\n",
    "unique_cuisines = set(cuisine_list)\n",
    "unique_cuisines"
   ]
  },
  {
   "cell_type": "code",
   "execution_count": null,
   "metadata": {},
   "outputs": [],
   "source": [
    "len(unique_cuisines)"
   ]
  },
  {
   "cell_type": "markdown",
   "metadata": {},
   "source": [
    "After removing the irrelevant terms from the list, the total length of the remaining food options is:\n",
    "\n",
    "Total length: 129\n",
    "\n",
    "Cuisines overview \n",
    "\n",
    "\n",
    "# Food Types\n",
    "\n",
    "| Food Type | Description | Notes |\n",
    "|---|---|---|\n",
    "| Afghani | Non-veg dishes from Afghanistan, like kebabs and rice | Often includes rice and grilled meats. |\n",
    "| African | Diverse cuisine with both veg and non-veg options | Can be very spicy. |\n",
    "| American | Broad cuisine with a mix of veg and non-veg dishes | Includes dishes from all over the United States. |\n",
    "| Andhra | South Indian cuisine, both veg and non-veg, known for spiciness | Often includes rice, lentils, and spices. |\n",
    "| Arabian | Middle Eastern cuisine, offers both veg and non-veg dishes | Can be very flavorful and aromatic. |\n",
    "| Asian | Diverse cuisine with veg and non-veg options | Can be very spicy or mild. |\n",
    "| Australian | Cuisine with various dishes including veg and non-veg | Often includes seafood and lamb. |\n",
    "| Awadhi | Indian cuisine with rich non-veg dishes | Often includes ghee and cream. |\n",
    "| Bakery | Offers veg and non-veg baked goods | Can include cakes, pastries, and breads. |\n",
    "| Bangladeshi | Cuisine from Bangladesh, includes both veg and non-veg | Often includes rice, lentils, and spices. |\n",
    "| Barbecue | Often includes veg and non-veg grilled dishes | Can be very smoky. |\n",
    "| Bengali | Cuisine from West Bengal, offers veg and non-veg dishes | Often includes rice, fish, and sweets. |\n",
    "| Beverages | Drinks, typically veg | Can include juices, sodas, and coffee. |\n",
    "| Bihari | Cuisine from Bihar, includes both veg and non-veg | Often includes rice, lentils, and spices. |\n",
    "| Biryani | Rice dish, can be veg or non-veg | Often includes meat or vegetables, rice, and spices. |\n",
    "| Bowl | General term, may refer to various veg and non-veg dishes | Can be a salad, soup, or stir-fry. |\n",
    "| British | Cuisine from the UK, includes both veg and non-veg | Often includes fish and chips, pies, and puddings. |\n",
    "| Burmese | Cuisine from Myanmar, has both veg and non-veg options | Often includes rice, noodles, and curries. |\n",
    "| Cafe | Offers various foods including veg and non-veg options | Can include sandwiches, salads, and pastries. |\n",
    "| Cakes | Sweets, often veg | Can be made with a variety of flavors and ingredients. |\n",
    "| Chaat | Indian savory snacks, usually veg | Often includes chickpeas, potatoes, and spices. |\n",
    "| Chettinad | South Indian cuisine with both veg and non-veg dishes | Known for its use of spices. |\n",
    "| Chinese | Offers both veg and non-veg dishes | Can be very flavorful and aromatic. |\n",
    "| Coastal | Often includes seafood but can have veg options | Can be very fresh and flavorful. |\n",
    "| Combos | Mixed meal options, veg and non-veg | Can be a good way to try a variety of dishes. |\n",
    "| Continental | European cuisine, includes both veg and non-veg | Often includes pasta, risotto, and grilled meats. |\n",
    "| Cream | Can refer to various dishes, often veg | Can be used to add richness and flavor to dishes. |\n",
    "| Desserts | Sweets, usually veg | Can include cakes, pastries, and ice cream. |\n",
    "| Eastern | Broad term, includes both veg and non-veg dishes | Can be very flavorful and aromatic. |\n",
    "| European | Cuisine from Europe, offers both veg and non-veg | Often includes pasta, risotto, and grilled meats. |\n",
    "| Fast Food | Various quick meals, includes veg and non-veg | Can be a convenient option for a quick bite to eat. |\n",
    "| French | Cuisine from France, includes both veg and non-veg | Often includes pastries, cheese, and wine. |\n",
    "| German | Cuisine from Germany, includes both veg and non-veg | Often includes sausages, beer, and pretzels. |\n",
    "| Goan | Cuisine from Goa, includes both veg and non-veg | Often includes seafood and coconut. |\n",
    "| Greek | Cuisine from Greece, offers both veg and non-veg | Often includes grilled meats, seafood, and yogurt. |\n",
    "| Grill | Often includes both veg and non-veg grilled items | Can be a healthy option for a meal. |\n",
    "| Haleem | Dish with meat, often non-veg | Made with lentils, meat, and spices. |\n",
    "| Healthy | Various health-focused dishes, can include veg and non-veg | Can be a good\n",
    "|Keventers | A popular milkshake and dessert brand known for its milkshakes and dairy-based treats|\n",
    "| North Eastern | Cuisine from the northeastern regions of India, including states like Assam, Manipur, and Nagaland |\n",
    "|Bowl Company| A place offering meals served in bowls, often with a variety of ingredients like grains, veggies, and proteins |\n",
    "|Oriya | Cuisine from the Odisha state in India, known for its unique flavors and vegetarian and non-vegetarian dishes |\n",
    "|Rayalaseema | Cuisine from the Rayalaseema region in Andhra Pradesh,India, with a mix of vegetarian and non-vegetarian dishes|\n",
    "\n",
    "\n",
    "# Veg Options \n",
    "\n",
    "| Food Type | Veg | Notes |\n",
    "|---|---|---|\n",
    "| Ice cream | Usually | Can be made with dairy products. |\n",
    "| Paan | Often | Betel leaf preparations. |\n",
    "| Rajasthani | Many options | Cuisine from the Indian state of Rajasthan. |\n",
    "| Salads | Typically | Many different types available. |\n",
    "| Sweets | Typically | Many different types available from all over the world. |\n",
    "| Waffle | Can be made with either | There are many popular veg waffle recipes available. |\n",
    "| Chaat | Usually | Indian savory snacks. |\n",
    "| South Indian | Relatively high proportion | Cuisine from the southern part of India. |\n",
    "| Telangana | Relatively high proportion | Cuisine from the Indian state of Telangana. |\n",
    "| Gujarati | Many options | Cuisine from the Indian state of Gujarat. |\n",
    "| Jain | Many options | Cuisine that follows the Jain dietary restrictions. |\n",
    "| Maharashtrian | Many options | Cuisine from the Indian state of Maharashtra. |\n",
    "| Kerala | Many options | Cuisine from the Indian state of Kerala. |\n"
   ]
  },
  {
   "cell_type": "code",
   "execution_count": null,
   "metadata": {},
   "outputs": [],
   "source": [
    "# 2. Find the city with the highest number of restaurants that offer vegetarian food options.\n",
    "\n",
    "query2=\"\"\"\n",
    "SELECT\n",
    "    city,\n",
    "    COUNT(ID) AS num_restaurants_with_vegetarian_options\n",
    "FROM\n",
    "    swiggytable\n",
    "WHERE\n",
    "    city IS NOT NULL\n",
    "    AND (\n",
    "        Food_type LIKE '%Ice cream%' OR\n",
    "        Food_type LIKE '%Paan%' OR\n",
    "        Food_type LIKE '%Rajasthani%' OR\n",
    "        Food_type LIKE '%Salads%' OR\n",
    "        Food_type LIKE '%Sweets%' OR\n",
    "        Food_type LIKE '%Waffle%' OR\n",
    "        Food_type LIKE '%Chaat%' OR\n",
    "        Food_type LIKE '%South Indian%' OR\n",
    "        Food_type LIKE '%Telangana%' OR\n",
    "        Food_type LIKE '%Gujarati%' OR\n",
    "        Food_type LIKE '%Jain%' OR\n",
    "        Food_type LIKE '%Maharashtrian%' OR\n",
    "        Food_type LIKE '%Kerala%'\n",
    "    )\n",
    "GROUP BY\n",
    "    city\n",
    "ORDER BY\n",
    "    num_restaurants_with_vegetarian_options DESC\n",
    "LIMIT 1;\n",
    "\"\"\"\n",
    "cursor.execute(query2)\n",
    "\n",
    "# Fetch the records\n",
    "records = cursor.fetchall()\n",
    "\n",
    "# Define the headers for the columns\n",
    "headers =  [desc[0] for desc in cursor.description]\n",
    "\n",
    "# Print the records using tabulate\n",
    "print(tabulate(records, headers=headers, tablefmt=\"psql\"))"
   ]
  },
  {
   "cell_type": "code",
   "execution_count": null,
   "metadata": {},
   "outputs": [],
   "source": [
    "# 3. Calculate the average delivery time for each food type across different cities. \n",
    "\n",
    "query3=\"Select City, avg(Delivery_time) as Average_Delivery_Time from swiggytable group by City order by City;\"\n",
    "cursor.execute(query3)\n",
    "\n",
    "# Fetch the records\n",
    "records = cursor.fetchall()\n",
    "\n",
    "# Define the headers for the columns\n",
    "headers =  [desc[0] for desc in cursor.description]\n",
    "\n",
    "# Print the records using tabulate\n",
    "print(tabulate(records, headers=headers, tablefmt=\"psql\"))"
   ]
  },
  {
   "cell_type": "code",
   "execution_count": null,
   "metadata": {},
   "outputs": [],
   "source": [
    "# 4. List the restaurants that have a delivery time greater than the average delivery time in their respective cities.\n",
    "\n",
    "query4=\"\"\" \n",
    "select Restaurant,City,Delivery_time,avg(Delivery_time) as City_average\n",
    "from swiggytable\n",
    "group by Restaurant,City\n",
    "having Delivery_time>City_average\n",
    "order by City,Restaurant\n",
    "limit 10;\n",
    "\"\"\"\n",
    "cursor.execute(query4)\n",
    "\n",
    "# Fetch the records\n",
    "records = cursor.fetchall()\n",
    "\n",
    "# Define the headers for the columns\n",
    "headers =  [desc[0] for desc in cursor.description]\n",
    "\n",
    "# Print the records using tabulate\n",
    "print(tabulate(records, headers=headers, tablefmt=\"psql\"))"
   ]
  },
  {
   "cell_type": "code",
   "execution_count": null,
   "metadata": {},
   "outputs": [],
   "source": [
    "# 5. Identify the area with the highest total ratings for restaurants serving Indian cuisine.\n",
    "\n",
    "query5=\"\"\" \n",
    "SELECT Area, Total_ratings\n",
    "FROM\n",
    "    swiggytable\n",
    "WHERE\n",
    "    Food_type LIKE '%India%'\n",
    "GROUP BY\n",
    "    Area\n",
    "ORDER BY\n",
    "    Total_ratings DESC\n",
    "LIMIT 1;\n",
    "\n",
    "\n",
    "\n",
    "\"\"\"\n",
    "cursor.execute(query5)\n",
    "\n",
    "# Fetch the records\n",
    "records = cursor.fetchall()\n",
    "\n",
    "# Define the headers for the columns\n",
    "headers =  [desc[0] for desc in cursor.description]\n",
    "\n",
    "# Print the records using tabulate\n",
    "print(tabulate(records, headers=headers, tablefmt=\"psql\"))"
   ]
  },
  {
   "cell_type": "code",
   "execution_count": null,
   "metadata": {},
   "outputs": [],
   "source": [
    "# 6. Calculate the percentage of restaurants in each city that offer free delivery.\n",
    "\n",
    "query6= \"\"\"\n",
    "    SELECT \n",
    "        City,Count(*) as Restaurants_offering_free ,\n",
    "    Concat(Round(COUNT(*)*100/(SELECT COUNT(*) FROM swiggytable WHERE City = t.City),3),'%') \n",
    "    as Percentage_of_rest_offering_free_delivery \n",
    "    FROM swiggytable t \n",
    "    where Food_type \n",
    "    LIKE \"%Free%\" \n",
    "    OR Price = 0 \n",
    "    GROUP BY City;\n",
    "    \n",
    "    \"\"\"\n",
    "\n",
    "\n",
    "\n",
    "cursor.execute(query6)\n",
    "\n",
    "# Fetch the records\n",
    "records = cursor.fetchall()\n",
    "\n",
    "# Define the headers for the columns\n",
    "headers =  [desc[0] for desc in cursor.description]\n",
    "\n",
    "# Print the records using tabulate\n",
    "print(tabulate(records, headers=headers, tablefmt=\"psql\"))"
   ]
  },
  {
   "cell_type": "code",
   "execution_count": null,
   "metadata": {},
   "outputs": [],
   "source": [
    "# 7. Determine the average price range for restaurants offering a specific food type in each area.\n",
    "# assuming ASIAN to be that specific foodtype\n",
    "\n",
    "query7 = \"\"\"\n",
    "SELECT\n",
    "    Area,\n",
    "    Food_type,\n",
    "    AVG(Price) AS Average_Price\n",
    "FROM\n",
    "    swiggytable\n",
    "WHERE\n",
    "    Food_type LIKE \"%asian%\"\n",
    "GROUP BY\n",
    "    Area, Food_type\n",
    "LIMIT 5;\n",
    "    \"\"\"\n",
    "\n",
    "cursor.execute(query7)\n",
    "\n",
    "# Fetch the records\n",
    "records = cursor.fetchall()\n",
    "\n",
    "# Define the headers for the columns\n",
    "headers =  [desc[0] for desc in cursor.description]\n",
    "\n",
    "# Print the records using tabulate\n",
    "print(tabulate(records, headers=headers, tablefmt=\"psql\"))"
   ]
  },
  {
   "cell_type": "code",
   "execution_count": null,
   "metadata": {},
   "outputs": [],
   "source": [
    "# 8. Find the restaurant IDs that have both the highest average ratings and the highest total ratings. \n",
    "\n",
    "query8 = \"\"\"\n",
    "\n",
    "SELECT DISTINCT ID,City,Restaurant, Avg_ratings, Total_ratings,Area\n",
    "FROM swiggytable\n",
    "ORDER BY Avg_ratings DESC,Total_ratings DESC\n",
    "  LIMIT 10;\n",
    "\"\"\"\n",
    "\n",
    "cursor.execute(query8)\n",
    "\n",
    "# Fetch the records\n",
    "records = cursor.fetchall()\n",
    "\n",
    "headers =  [desc[0] for desc in cursor.description]\n",
    "# Print the records using tabulate\n",
    "print(tabulate(records, headers=headers, tablefmt=\"psql\"))\n"
   ]
  },
  {
   "cell_type": "markdown",
   "metadata": {},
   "source": [
    "### Python vs SQL accuracy"
   ]
  },
  {
   "attachments": {
    "image.png": {
     "image/png": "[encoded data removed]"
    }
   },
   "cell_type": "markdown",
   "metadata": {},
   "source": [
    "## Correlation Formula\n",
    "\n",
    "![image.png](attachment:image.png)"
   ]
  },
  {
   "cell_type": "code",
   "execution_count": null,
   "metadata": {},
   "outputs": [],
   "source": [
    "# 9. Calculate the correlation between restaurant prices and average ratings.\n",
    "print(f\"Correlation by Python is : {df['Price'].corr(df['Avg_ratings'])}\")\n",
    "\n",
    "\n",
    "query9 = \"\"\"\n",
    "\n",
    "SELECT\n",
    "    (N * Product - SUM_Price * SUM_Avg_ratings) /\n",
    "    SQRT((N * Price_Square - POW((SUM_Price),2)) * (N * Avg_ratings_Square -POW((SUM_Avg_ratings),2)) )\n",
    "    AS Correlation_By_SQL\n",
    "FROM (\n",
    "    SELECT\n",
    "        COUNT(*) AS N,\n",
    "        SUM(Price * Avg_ratings) AS Product,\n",
    "        SUM(Price) AS SUM_Price,\n",
    "        SUM(Avg_ratings) AS SUM_Avg_ratings,\n",
    "        SUM(Price * Price) AS Price_Square,\n",
    "        SUM(Avg_ratings * Avg_ratings) AS Avg_ratings_Square\n",
    "    FROM swiggytable\n",
    ") AS calculated_values;\n",
    "\n",
    "\"\"\"\n",
    "\n",
    "cursor.execute(query9)\n",
    "\n",
    "# Fetch the records\n",
    "records = cursor.fetchall()\n",
    "\n",
    "headers =  [desc[0] for desc in cursor.description]\n",
    "# Print the records using tabulate\n",
    "print(tabulate(records, headers=headers, tablefmt=\"psql\"))\n",
    "print('The accuracy difference is clear')"
   ]
  },
  {
   "cell_type": "markdown",
   "metadata": {},
   "source": [
    "# Standard Deviation\n",
    "\n",
    "\n",
    "## Difference between Population Standard Deviation and Sample Standard Deviation\n",
    "\n",
    "The population standard deviation and sample standard deviation are both measures of how spread out a set of data is. However, there is a key difference between the two: the population standard deviation is calculated using all of the data points in the population, while the sample standard deviation is calculated using a subset of the data points, called the sample.\n",
    "\n",
    "**Formulas**\n",
    "\n",
    "The formula for population standard deviation is:\n",
    "\n",
    "\n",
    "**<span style=\"color:blue\">σ = √∑(x - μ)^2/N</span>** \n",
    "\n",
    "\n",
    "where:\n",
    "\n",
    "* σ is the population standard deviation\n",
    "* x is a data point\n",
    "* μ is the population mean\n",
    "* N is the number of data points in the population\n",
    "\n",
    "The formula for sample standard deviation is:\n",
    "\n",
    "**<span style=\"color:blue\">s = √∑(x - x̄)^2/(n - 1)</span>** \n",
    "\n",
    "where:\n",
    "\n",
    "* s is the sample standard deviation\n",
    "* x is a data point\n",
    "* x̄ is the sample mean\n",
    "* n is the number of data points in the sample\n",
    "\n",
    "\n",
    "### Accuracy\n",
    "\n",
    "The <span style=\"color:blue\">population standard deviation</span> is more accurate than the <span style=\"color:blue\">sample standard deviation</span> because it is calculated using all of the data points in the population. However, the population standard deviation is not always available, as it may not be possible to collect data on all the members of a population. In these cases, the <span style=\"color:blue\">sample standard deviation</span> can be used as an estimate of the population standard deviation.\n",
    "\n",
    "### ddof \n",
    "\n",
    "\n",
    "|Parameter\t|ddof=0\t|ddof=1 |\n",
    "|---|---|---|\n",
    "|Description\t|Calculates the population standard deviation\t|Calculates the sample standard deviation|\n",
    "|Accuracy\t|More accurate\t|Less accurate|\n",
    "|Assumption\t|The population mean is known\t|The population mean is unknown|\n",
    "|Usefulness\t|Not often used\t|More often used|\n",
    "\n",
    "### MySQL vs Python\n",
    "\n",
    "* In MySQL the default degrees of freedom (ddof) is 0 meaning it calculates population standard deviation by default\n",
    "* In pandas the default degrees of freedom (ddof) is 1 meaning it calculates sample standard deviation by default\n"
   ]
  },
  {
   "cell_type": "code",
   "execution_count": null,
   "metadata": {},
   "outputs": [],
   "source": [
    "# 10. List the areas where the distribution of delivery times has the highest standard deviation\n",
    "\n",
    "# First by Python\n",
    "\n",
    "# Group the data by 'Area'\n",
    "grouped= df.groupby('Area')['Delivery_time']\n",
    "\n",
    "# Calculate the standard deviation for each group\n",
    "pop_std_deviation = grouped.std(ddof=0)  # Use ddof=0 for population standard deviation \n",
    "sample_std_deviation = grouped.std(ddof=1)  # Use ddof=0 for population standard deviation \n",
    "\n",
    "print(pop_std_deviation.to_frame().tail(2))\n",
    "sample_std_deviation.to_frame().tail(2)"
   ]
  },
  {
   "cell_type": "code",
   "execution_count": null,
   "metadata": {},
   "outputs": [],
   "source": [
    "# Sort\n",
    "pop_sorted_std = pop_std_deviation.sort_values(ascending=False)\n",
    "sample_sorted_std = sample_std_deviation.sort_values(ascending=False)\n",
    "\n",
    "\n",
    "# Get the area with the highest standard deviation\n",
    "highest_std_area_pop = pop_sorted_std.index[0]\n",
    "highest_std_area_sample = sample_sorted_std.index[0]\n",
    "\n",
    "# Get value at index 0\n",
    "value_pop=pop_sorted_std.iloc[0]\n",
    "value_sample=sample_sorted_std.iloc[0]"
   ]
  },
  {
   "cell_type": "code",
   "execution_count": null,
   "metadata": {},
   "outputs": [],
   "source": [
    "# Print or display the result\n",
    "print(f\"The area with the highest population standard deviation of delivery times is: {highest_std_area_pop} with standard deviation {value_pop}\")\n",
    "print(f\"The area with the highest sample standard deviation of delivery times is: {highest_std_area_sample} with standard deviation {value_sample}\\n\")\n",
    "\n",
    "print(f'The sample population is {value_sample-value_pop} greater and less accurate than population stdeviation')"
   ]
  },
  {
   "cell_type": "code",
   "execution_count": null,
   "metadata": {},
   "outputs": [],
   "source": [
    "# Now by SQL\n",
    "\n",
    "query10 = \"\"\"\n",
    "\n",
    "SELECT Area, STDDEV(Delivery_time) \n",
    "AS Sample_Standard_Deviation_By_Default \n",
    "FROM swiggytable\n",
    "GROUP BY Area\n",
    "ORDER BY Sample_Standard_Deviation_By_Default DESC\n",
    "LIMIT 1;\n",
    "\n",
    "\"\"\"\n",
    "\n",
    "cursor.execute(query10)\n",
    "\n",
    "# Fetch the records\n",
    "records = cursor.fetchall()\n",
    "\n",
    "headers =  [desc[0] for desc in cursor.description]\n",
    "# Print the records using tabulate\n",
    "print(tabulate(records, headers=headers, tablefmt=\"psql\"))\n"
   ]
  },
  {
   "cell_type": "code",
   "execution_count": null,
   "metadata": {},
   "outputs": [],
   "source": [
    "\n",
    "# Close the cursor\n",
    "cursor.close()\n",
    "\n",
    "# Close the connection\n",
    "conn.close()"
   ]
  },
  {
   "cell_type": "markdown",
   "metadata": {},
   "source": [
    "____"
   ]
  }
 ],
 "metadata": {
  "kernelspec": {
   "display_name": "Python 3 (ipykernel)",
   "language": "python",
   "name": "python3"
  },
  "language_info": {
   "codemirror_mode": {
    "name": "ipython",
    "version": 3
   },
   "file_extension": ".py",
   "mimetype": "text/x-python",
   "name": "python",
   "nbconvert_exporter": "python",
   "pygments_lexer": "ipython3",
   "version": "3.10.9"
  }
 },
 "nbformat": 4,
 "nbformat_minor": 4
}
